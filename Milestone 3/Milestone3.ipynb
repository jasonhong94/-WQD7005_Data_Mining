{
 "cells": [
  {
   "cell_type": "code",
   "execution_count": 1,
   "metadata": {},
   "outputs": [],
   "source": [
    "import pandas as pd\n",
    "import pyodbc"
   ]
  },
  {
   "cell_type": "markdown",
   "metadata": {},
   "source": [
    "### Connect through ODBC driver"
   ]
  },
  {
   "cell_type": "code",
   "execution_count": 2,
   "metadata": {},
   "outputs": [],
   "source": [
    "conn = pyodbc.connect(DSN = \"hive_connection\", autocommit = True, ansi = True)"
   ]
  },
  {
   "cell_type": "code",
   "execution_count": 3,
   "metadata": {},
   "outputs": [
    {
     "name": "stdout",
     "output_type": "stream",
     "text": [
      "<pyodbc.Connection object at 0x000002519332F780>\n"
     ]
    }
   ],
   "source": [
    "print(conn)"
   ]
  },
  {
   "cell_type": "markdown",
   "metadata": {},
   "source": [
    "Connection is success."
   ]
  },
  {
   "cell_type": "code",
   "execution_count": 4,
   "metadata": {},
   "outputs": [
    {
     "data": {
      "text/html": [
       "<div>\n",
       "<style scoped>\n",
       "    .dataframe tbody tr th:only-of-type {\n",
       "        vertical-align: middle;\n",
       "    }\n",
       "\n",
       "    .dataframe tbody tr th {\n",
       "        vertical-align: top;\n",
       "    }\n",
       "\n",
       "    .dataframe thead th {\n",
       "        text-align: right;\n",
       "    }\n",
       "</style>\n",
       "<table border=\"1\" class=\"dataframe\">\n",
       "  <thead>\n",
       "    <tr style=\"text-align: right;\">\n",
       "      <th></th>\n",
       "      <th>database_name</th>\n",
       "    </tr>\n",
       "  </thead>\n",
       "  <tbody>\n",
       "    <tr>\n",
       "      <td>0</td>\n",
       "      <td>default</td>\n",
       "    </tr>\n",
       "    <tr>\n",
       "      <td>1</td>\n",
       "      <td>foodmart</td>\n",
       "    </tr>\n",
       "    <tr>\n",
       "      <td>2</td>\n",
       "      <td>information_schema</td>\n",
       "    </tr>\n",
       "    <tr>\n",
       "      <td>3</td>\n",
       "      <td>sys</td>\n",
       "    </tr>\n",
       "  </tbody>\n",
       "</table>\n",
       "</div>"
      ],
      "text/plain": [
       "        database_name\n",
       "0             default\n",
       "1            foodmart\n",
       "2  information_schema\n",
       "3                 sys"
      ]
     },
     "execution_count": 4,
     "metadata": {},
     "output_type": "execute_result"
    }
   ],
   "source": [
    "pd.read_sql(\"show databases;\", conn)"
   ]
  },
  {
   "cell_type": "code",
   "execution_count": 6,
   "metadata": {},
   "outputs": [],
   "source": [
    "bitcoin_df = pd.read_sql(\"SELECT * FROM bitcoin LIMIT 10\", conn)"
   ]
  },
  {
   "cell_type": "code",
   "execution_count": 7,
   "metadata": {},
   "outputs": [
    {
     "data": {
      "text/html": [
       "<div>\n",
       "<style scoped>\n",
       "    .dataframe tbody tr th:only-of-type {\n",
       "        vertical-align: middle;\n",
       "    }\n",
       "\n",
       "    .dataframe tbody tr th {\n",
       "        vertical-align: top;\n",
       "    }\n",
       "\n",
       "    .dataframe thead th {\n",
       "        text-align: right;\n",
       "    }\n",
       "</style>\n",
       "<table border=\"1\" class=\"dataframe\">\n",
       "  <thead>\n",
       "    <tr style=\"text-align: right;\">\n",
       "      <th></th>\n",
       "      <th>bitcoin.marketdate</th>\n",
       "      <th>bitcoin.open</th>\n",
       "      <th>bitcoin.high</th>\n",
       "      <th>bitcoin.low</th>\n",
       "      <th>bitcoin.close</th>\n",
       "      <th>bitcoin.volume</th>\n",
       "      <th>bitcoin.marketcapacity</th>\n",
       "    </tr>\n",
       "  </thead>\n",
       "  <tbody>\n",
       "    <tr>\n",
       "      <td>0</td>\n",
       "      <td>2020-05-25</td>\n",
       "      <td>8786.11</td>\n",
       "      <td>8951.01</td>\n",
       "      <td>8719.67</td>\n",
       "      <td>8906.93</td>\n",
       "      <td>3.128816e+10</td>\n",
       "      <td>1.637605e+11</td>\n",
       "    </tr>\n",
       "    <tr>\n",
       "      <td>1</td>\n",
       "      <td>2020-05-24</td>\n",
       "      <td>9212.28</td>\n",
       "      <td>9288.40</td>\n",
       "      <td>8787.25</td>\n",
       "      <td>8790.37</td>\n",
       "      <td>3.251880e+10</td>\n",
       "      <td>1.616104e+11</td>\n",
       "    </tr>\n",
       "    <tr>\n",
       "      <td>2</td>\n",
       "      <td>2020-05-23</td>\n",
       "      <td>9185.06</td>\n",
       "      <td>9302.50</td>\n",
       "      <td>9118.11</td>\n",
       "      <td>9209.29</td>\n",
       "      <td>2.772787e+10</td>\n",
       "      <td>1.693055e+11</td>\n",
       "    </tr>\n",
       "    <tr>\n",
       "      <td>3</td>\n",
       "      <td>2020-05-22</td>\n",
       "      <td>9080.33</td>\n",
       "      <td>9232.94</td>\n",
       "      <td>9008.64</td>\n",
       "      <td>9182.58</td>\n",
       "      <td>2.981077e+10</td>\n",
       "      <td>1.688076e+11</td>\n",
       "    </tr>\n",
       "    <tr>\n",
       "      <td>4</td>\n",
       "      <td>2020-05-21</td>\n",
       "      <td>9522.74</td>\n",
       "      <td>9555.24</td>\n",
       "      <td>8869.93</td>\n",
       "      <td>9081.76</td>\n",
       "      <td>3.932616e+10</td>\n",
       "      <td>1.669480e+11</td>\n",
       "    </tr>\n",
       "    <tr>\n",
       "      <td>5</td>\n",
       "      <td>2020-05-20</td>\n",
       "      <td>9725.33</td>\n",
       "      <td>9804.79</td>\n",
       "      <td>9447.20</td>\n",
       "      <td>9522.98</td>\n",
       "      <td>3.654624e+10</td>\n",
       "      <td>1.750510e+11</td>\n",
       "    </tr>\n",
       "    <tr>\n",
       "      <td>6</td>\n",
       "      <td>2020-05-19</td>\n",
       "      <td>9727.06</td>\n",
       "      <td>9836.05</td>\n",
       "      <td>9539.62</td>\n",
       "      <td>9729.04</td>\n",
       "      <td>3.925429e+10</td>\n",
       "      <td>1.788316e+11</td>\n",
       "    </tr>\n",
       "    <tr>\n",
       "      <td>7</td>\n",
       "      <td>2020-05-18</td>\n",
       "      <td>9675.69</td>\n",
       "      <td>9906.03</td>\n",
       "      <td>9570.36</td>\n",
       "      <td>9726.57</td>\n",
       "      <td>4.182714e+10</td>\n",
       "      <td>1.787795e+11</td>\n",
       "    </tr>\n",
       "    <tr>\n",
       "      <td>8</td>\n",
       "      <td>2020-05-17</td>\n",
       "      <td>9374.93</td>\n",
       "      <td>9823.00</td>\n",
       "      <td>9349.55</td>\n",
       "      <td>9670.74</td>\n",
       "      <td>4.008425e+10</td>\n",
       "      <td>1.777454e+11</td>\n",
       "    </tr>\n",
       "    <tr>\n",
       "      <td>9</td>\n",
       "      <td>2020-05-16</td>\n",
       "      <td>9333.24</td>\n",
       "      <td>9564.20</td>\n",
       "      <td>9260.69</td>\n",
       "      <td>9377.01</td>\n",
       "      <td>3.616477e+10</td>\n",
       "      <td>1.723410e+11</td>\n",
       "    </tr>\n",
       "  </tbody>\n",
       "</table>\n",
       "</div>"
      ],
      "text/plain": [
       "  bitcoin.marketdate  bitcoin.open  bitcoin.high  bitcoin.low  bitcoin.close  \\\n",
       "0         2020-05-25       8786.11       8951.01      8719.67        8906.93   \n",
       "1         2020-05-24       9212.28       9288.40      8787.25        8790.37   \n",
       "2         2020-05-23       9185.06       9302.50      9118.11        9209.29   \n",
       "3         2020-05-22       9080.33       9232.94      9008.64        9182.58   \n",
       "4         2020-05-21       9522.74       9555.24      8869.93        9081.76   \n",
       "5         2020-05-20       9725.33       9804.79      9447.20        9522.98   \n",
       "6         2020-05-19       9727.06       9836.05      9539.62        9729.04   \n",
       "7         2020-05-18       9675.69       9906.03      9570.36        9726.57   \n",
       "8         2020-05-17       9374.93       9823.00      9349.55        9670.74   \n",
       "9         2020-05-16       9333.24       9564.20      9260.69        9377.01   \n",
       "\n",
       "   bitcoin.volume  bitcoin.marketcapacity  \n",
       "0    3.128816e+10            1.637605e+11  \n",
       "1    3.251880e+10            1.616104e+11  \n",
       "2    2.772787e+10            1.693055e+11  \n",
       "3    2.981077e+10            1.688076e+11  \n",
       "4    3.932616e+10            1.669480e+11  \n",
       "5    3.654624e+10            1.750510e+11  \n",
       "6    3.925429e+10            1.788316e+11  \n",
       "7    4.182714e+10            1.787795e+11  \n",
       "8    4.008425e+10            1.777454e+11  \n",
       "9    3.616477e+10            1.723410e+11  "
      ]
     },
     "execution_count": 7,
     "metadata": {},
     "output_type": "execute_result"
    }
   ],
   "source": [
    "bitcoin_df"
   ]
  },
  {
   "cell_type": "code",
   "execution_count": null,
   "metadata": {},
   "outputs": [],
   "source": []
  }
 ],
 "metadata": {
  "kernelspec": {
   "display_name": "Python 3",
   "language": "python",
   "name": "python3"
  },
  "language_info": {
   "codemirror_mode": {
    "name": "ipython",
    "version": 3
   },
   "file_extension": ".py",
   "mimetype": "text/x-python",
   "name": "python",
   "nbconvert_exporter": "python",
   "pygments_lexer": "ipython3",
   "version": "3.7.4"
  }
 },
 "nbformat": 4,
 "nbformat_minor": 2
}
