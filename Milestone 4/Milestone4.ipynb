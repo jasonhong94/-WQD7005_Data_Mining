{
 "cells": [
  {
   "cell_type": "markdown",
   "metadata": {},
   "source": [
    "# WQD7005 Data Mining"
   ]
  },
  {
   "cell_type": "markdown",
   "metadata": {},
   "source": [
    "# Milestone 4"
   ]
  },
  {
   "cell_type": "code",
   "execution_count": 36,
   "metadata": {},
   "outputs": [],
   "source": [
    "#importing libraries\n",
    "import json\n",
    "import requests\n",
    "from keras.models import Sequential\n",
    "from keras.layers import Activation, Dense, Dropout, LSTM\n",
    "import matplotlib.pyplot as plt\n",
    "import numpy as np\n",
    "import pandas as pd\n",
    "import seaborn as sns\n",
    "from sklearn.metrics import mean_absolute_error\n",
    "%matplotlib inline\n",
    "\n",
    "import pyodbc"
   ]
  },
  {
   "cell_type": "markdown",
   "metadata": {},
   "source": [
    "# 1.Access data from Hive database"
   ]
  },
  {
   "cell_type": "code",
   "execution_count": 10,
   "metadata": {},
   "outputs": [
    {
     "name": "stdout",
     "output_type": "stream",
     "text": [
      "<pyodbc.Connection object at 0x000001C130663100>\n"
     ]
    }
   ],
   "source": [
    "conn = pyodbc.connect(DSN = \"hive_connection\", autocommit = True, ansi = True)\n",
    "\n",
    "print(conn)"
   ]
  },
  {
   "cell_type": "code",
   "execution_count": 11,
   "metadata": {},
   "outputs": [
    {
     "data": {
      "text/html": [
       "<div>\n",
       "<style scoped>\n",
       "    .dataframe tbody tr th:only-of-type {\n",
       "        vertical-align: middle;\n",
       "    }\n",
       "\n",
       "    .dataframe tbody tr th {\n",
       "        vertical-align: top;\n",
       "    }\n",
       "\n",
       "    .dataframe thead th {\n",
       "        text-align: right;\n",
       "    }\n",
       "</style>\n",
       "<table border=\"1\" class=\"dataframe\">\n",
       "  <thead>\n",
       "    <tr style=\"text-align: right;\">\n",
       "      <th></th>\n",
       "      <th>bitcoin.marketdate</th>\n",
       "      <th>bitcoin.open</th>\n",
       "      <th>bitcoin.high</th>\n",
       "      <th>bitcoin.low</th>\n",
       "      <th>bitcoin.close</th>\n",
       "      <th>bitcoin.volume</th>\n",
       "      <th>bitcoin.marketcapacity</th>\n",
       "    </tr>\n",
       "  </thead>\n",
       "  <tbody>\n",
       "    <tr>\n",
       "      <th>0</th>\n",
       "      <td>2020-05-25</td>\n",
       "      <td>8786.11</td>\n",
       "      <td>8951.01</td>\n",
       "      <td>8719.67</td>\n",
       "      <td>8906.93</td>\n",
       "      <td>3.128816e+10</td>\n",
       "      <td>1.637605e+11</td>\n",
       "    </tr>\n",
       "    <tr>\n",
       "      <th>1</th>\n",
       "      <td>2020-05-24</td>\n",
       "      <td>9212.28</td>\n",
       "      <td>9288.40</td>\n",
       "      <td>8787.25</td>\n",
       "      <td>8790.37</td>\n",
       "      <td>3.251880e+10</td>\n",
       "      <td>1.616104e+11</td>\n",
       "    </tr>\n",
       "    <tr>\n",
       "      <th>2</th>\n",
       "      <td>2020-05-23</td>\n",
       "      <td>9185.06</td>\n",
       "      <td>9302.50</td>\n",
       "      <td>9118.11</td>\n",
       "      <td>9209.29</td>\n",
       "      <td>2.772787e+10</td>\n",
       "      <td>1.693055e+11</td>\n",
       "    </tr>\n",
       "    <tr>\n",
       "      <th>3</th>\n",
       "      <td>2020-05-22</td>\n",
       "      <td>9080.33</td>\n",
       "      <td>9232.94</td>\n",
       "      <td>9008.64</td>\n",
       "      <td>9182.58</td>\n",
       "      <td>2.981077e+10</td>\n",
       "      <td>1.688076e+11</td>\n",
       "    </tr>\n",
       "    <tr>\n",
       "      <th>4</th>\n",
       "      <td>2020-05-21</td>\n",
       "      <td>9522.74</td>\n",
       "      <td>9555.24</td>\n",
       "      <td>8869.93</td>\n",
       "      <td>9081.76</td>\n",
       "      <td>3.932616e+10</td>\n",
       "      <td>1.669480e+11</td>\n",
       "    </tr>\n",
       "  </tbody>\n",
       "</table>\n",
       "</div>"
      ],
      "text/plain": [
       "  bitcoin.marketdate  bitcoin.open  bitcoin.high  bitcoin.low  bitcoin.close  \\\n",
       "0         2020-05-25       8786.11       8951.01      8719.67        8906.93   \n",
       "1         2020-05-24       9212.28       9288.40      8787.25        8790.37   \n",
       "2         2020-05-23       9185.06       9302.50      9118.11        9209.29   \n",
       "3         2020-05-22       9080.33       9232.94      9008.64        9182.58   \n",
       "4         2020-05-21       9522.74       9555.24      8869.93        9081.76   \n",
       "\n",
       "   bitcoin.volume  bitcoin.marketcapacity  \n",
       "0    3.128816e+10            1.637605e+11  \n",
       "1    3.251880e+10            1.616104e+11  \n",
       "2    2.772787e+10            1.693055e+11  \n",
       "3    2.981077e+10            1.688076e+11  \n",
       "4    3.932616e+10            1.669480e+11  "
      ]
     },
     "execution_count": 11,
     "metadata": {},
     "output_type": "execute_result"
    }
   ],
   "source": [
    "df = pd.read_sql(\"SELECT * FROM bitcoin\", conn, parse_dates=['date'])\n",
    "df.head()"
   ]
  },
  {
   "cell_type": "code",
   "execution_count": 12,
   "metadata": {},
   "outputs": [
    {
     "data": {
      "text/html": [
       "<div>\n",
       "<style scoped>\n",
       "    .dataframe tbody tr th:only-of-type {\n",
       "        vertical-align: middle;\n",
       "    }\n",
       "\n",
       "    .dataframe tbody tr th {\n",
       "        vertical-align: top;\n",
       "    }\n",
       "\n",
       "    .dataframe thead th {\n",
       "        text-align: right;\n",
       "    }\n",
       "</style>\n",
       "<table border=\"1\" class=\"dataframe\">\n",
       "  <thead>\n",
       "    <tr style=\"text-align: right;\">\n",
       "      <th></th>\n",
       "      <th>bitcoin.open</th>\n",
       "      <th>bitcoin.high</th>\n",
       "      <th>bitcoin.low</th>\n",
       "      <th>bitcoin.close</th>\n",
       "      <th>bitcoin.volume</th>\n",
       "      <th>bitcoin.marketcapacity</th>\n",
       "    </tr>\n",
       "    <tr>\n",
       "      <th>bitcoin.marketdate</th>\n",
       "      <th></th>\n",
       "      <th></th>\n",
       "      <th></th>\n",
       "      <th></th>\n",
       "      <th></th>\n",
       "      <th></th>\n",
       "    </tr>\n",
       "  </thead>\n",
       "  <tbody>\n",
       "    <tr>\n",
       "      <th>2013-04-28</th>\n",
       "      <td>135.30</td>\n",
       "      <td>135.98</td>\n",
       "      <td>132.10</td>\n",
       "      <td>134.21</td>\n",
       "      <td>0.0</td>\n",
       "      <td>1.488567e+09</td>\n",
       "    </tr>\n",
       "    <tr>\n",
       "      <th>2013-04-29</th>\n",
       "      <td>134.44</td>\n",
       "      <td>147.49</td>\n",
       "      <td>134.00</td>\n",
       "      <td>144.54</td>\n",
       "      <td>0.0</td>\n",
       "      <td>1.603769e+09</td>\n",
       "    </tr>\n",
       "    <tr>\n",
       "      <th>2013-04-30</th>\n",
       "      <td>144.00</td>\n",
       "      <td>146.93</td>\n",
       "      <td>134.05</td>\n",
       "      <td>139.00</td>\n",
       "      <td>0.0</td>\n",
       "      <td>1.542813e+09</td>\n",
       "    </tr>\n",
       "    <tr>\n",
       "      <th>2013-05-01</th>\n",
       "      <td>139.00</td>\n",
       "      <td>139.89</td>\n",
       "      <td>107.72</td>\n",
       "      <td>116.99</td>\n",
       "      <td>0.0</td>\n",
       "      <td>1.298955e+09</td>\n",
       "    </tr>\n",
       "    <tr>\n",
       "      <th>2013-05-02</th>\n",
       "      <td>116.38</td>\n",
       "      <td>125.60</td>\n",
       "      <td>92.28</td>\n",
       "      <td>105.21</td>\n",
       "      <td>0.0</td>\n",
       "      <td>1.168517e+09</td>\n",
       "    </tr>\n",
       "  </tbody>\n",
       "</table>\n",
       "</div>"
      ],
      "text/plain": [
       "                    bitcoin.open  bitcoin.high  bitcoin.low  bitcoin.close  \\\n",
       "bitcoin.marketdate                                                           \n",
       "2013-04-28                135.30        135.98       132.10         134.21   \n",
       "2013-04-29                134.44        147.49       134.00         144.54   \n",
       "2013-04-30                144.00        146.93       134.05         139.00   \n",
       "2013-05-01                139.00        139.89       107.72         116.99   \n",
       "2013-05-02                116.38        125.60        92.28         105.21   \n",
       "\n",
       "                    bitcoin.volume  bitcoin.marketcapacity  \n",
       "bitcoin.marketdate                                          \n",
       "2013-04-28                     0.0            1.488567e+09  \n",
       "2013-04-29                     0.0            1.603769e+09  \n",
       "2013-04-30                     0.0            1.542813e+09  \n",
       "2013-05-01                     0.0            1.298955e+09  \n",
       "2013-05-02                     0.0            1.168517e+09  "
      ]
     },
     "execution_count": 12,
     "metadata": {},
     "output_type": "execute_result"
    }
   ],
   "source": [
    "df = df[::-1].reset_index(drop=True) # sort date and reindex\n",
    "btc = df.set_index('bitcoin.marketdate')\n",
    "btc.index = pd.to_datetime(btc.index)\n",
    "target_col = 'close'\n",
    "btc.head(5)"
   ]
  },
  {
   "cell_type": "markdown",
   "metadata": {},
   "source": [
    "# 2.Prepare data for training and testing."
   ]
  },
  {
   "cell_type": "code",
   "execution_count": 13,
   "metadata": {},
   "outputs": [],
   "source": [
    "def train_test_split(btc, test_size=0.2):\n",
    "    split_row = len(btc) - int(test_size * len(btc))\n",
    "    train_data = btc.iloc[:split_row]\n",
    "    test_data = btc.iloc[split_row:]\n",
    "    return train_data, test_data\n",
    "\n",
    "train, test = train_test_split(btc, test_size=0.2)"
   ]
  },
  {
   "cell_type": "markdown",
   "metadata": {},
   "source": [
    "split the data into two sets — training set and test set with 80% and 20% data respectively."
   ]
  },
  {
   "cell_type": "code",
   "execution_count": 14,
   "metadata": {},
   "outputs": [],
   "source": [
    "def line_plot(line1, line2, label1=None, label2=None, title='', lw=2):\n",
    "    fig, ax = plt.subplots(1, figsize=(13, 7))\n",
    "    ax.plot(line1, label=label1, linewidth=lw)\n",
    "    ax.plot(line2, label=label2, linewidth=lw)\n",
    "    ax.set_ylabel('Closing price ', fontsize=14)\n",
    "    ax.set_title(title, fontsize=16)\n",
    "    ax.legend(loc='best', fontsize=16)  "
   ]
  },
  {
   "cell_type": "code",
   "execution_count": 16,
   "metadata": {},
   "outputs": [
    {
     "data": {
      "image/png": "[encoded data removed]",
      "text/plain": [
       "<Figure size 936x504 with 1 Axes>"
      ]
     },
     "metadata": {
      "needs_background": "light"
     },
     "output_type": "display_data"
    }
   ],
   "source": [
    "line_plot(train['bitcoin.close'], test['bitcoin.close'], 'training', 'test', title='')"
   ]
  },
  {
   "cell_type": "markdown",
   "metadata": {},
   "source": [
    "# 3.Predict the price of crptocurrency using LSTM neural network."
   ]
  },
  {
   "cell_type": "markdown",
   "metadata": {},
   "source": [
    "Normalization is a technique often applied as part of data preparation for machine learning. The goal of normalization is to change the values of numeric columns in the dataset to a common scale, without distorting differences in the ranges of values."
   ]
  },
  {
   "cell_type": "code",
   "execution_count": 17,
   "metadata": {},
   "outputs": [],
   "source": [
    "data = btc.iloc[:, 0]\n",
    "history = []\n",
    "target = []\n",
    "length = 90\n",
    "\n",
    "for i in range(len(data)-length):\n",
    "    x = data[i:i+length]\n",
    "    y = data[i+length]\n",
    "    history.append(x)\n",
    "    target.append(y)"
   ]
  },
  {
   "cell_type": "code",
   "execution_count": 18,
   "metadata": {},
   "outputs": [
    {
     "name": "stdout",
     "output_type": "stream",
     "text": [
      "(2495, 90) (2495, 1)\n"
     ]
    }
   ],
   "source": [
    "history = np.array(history)  # convert data to numpy array and reshape the target\n",
    "\n",
    "target = np.array(target)\n",
    "target = target.reshape(-1,1)\n",
    "\n",
    "print(history.shape, target.shape)"
   ]
  },
  {
   "cell_type": "code",
   "execution_count": 21,
   "metadata": {},
   "outputs": [],
   "source": [
    "from sklearn.preprocessing import MinMaxScaler\n",
    "scaler = MinMaxScaler()\n",
    "history_scaled = scaler.fit_transform(history)\n",
    "target_scaled = scaler.fit_transform(target)"
   ]
  },
  {
   "cell_type": "code",
   "execution_count": 22,
   "metadata": {},
   "outputs": [
    {
     "name": "stdout",
     "output_type": "stream",
     "text": [
      "(2495, 90, 1)\n"
     ]
    }
   ],
   "source": [
    "\n",
    "history_scaled = history_scaled.reshape((len(history_scaled), length, 1))\n",
    "\n",
    "print(history_scaled.shape) # reshape the input array to be compatible with LSTM model"
   ]
  },
  {
   "cell_type": "code",
   "execution_count": 23,
   "metadata": {},
   "outputs": [],
   "source": [
    "X_train = history_scaled[:2400,:,:] # 2400 days used for training whereas 95 days used for testing\n",
    "X_test = history_scaled[2400:,:,:]\n",
    "\n",
    "y_train = target_scaled[:2400,:]\n",
    "y_test = target_scaled[2400:,:]"
   ]
  },
  {
   "cell_type": "markdown",
   "metadata": {},
   "source": [
    "# Build a LSTM Model"
   ]
  },
  {
   "cell_type": "code",
   "execution_count": 24,
   "metadata": {},
   "outputs": [],
   "source": [
    "def build_lstm_model(input_data, output_size, neurons=100, activ_func='linear', dropout=0.2, loss=loss, optimizer='adam'):\n",
    "    model = Sequential()\n",
    "    model.add(LSTM(neurons, input_shape=(input_data.shape[1], input_data.shape[2]), dropout=0.2))\n",
    "    model.add(Dropout(dropout))\n",
    "    model.add(Dense(units=output_size))\n",
    "    model.add(Activation(activ_func))\n",
    "    model.compile(loss=loss, optimizer=optimizer)\n",
    "    return model"
   ]
  },
  {
   "cell_type": "markdown",
   "metadata": {},
   "source": [
    "Sequential model is used for stacking all the layers (input, hidden and output). The neural network comprises of a LSTM layer followed by 20% Dropout layer and a Dense layer with linear activation function. I complied the model using Adam as the optimizer and Mean Squared Error as the loss function."
   ]
  },
  {
   "cell_type": "code",
   "execution_count": 4,
   "metadata": {},
   "outputs": [],
   "source": [
    "window_len = 5\n",
    "test_size = 0.2\n",
    "zero_base = True\n",
    "lstm_neurons = 100\n",
    "epochs = 30\n",
    "batch_size = 32\n",
    "loss = 'mean_squared_error'\n",
    "dropout = 0.2\n",
    "optimizer = 'adam'\n",
    "target_col = ['bitcoin.close']"
   ]
  },
  {
   "cell_type": "markdown",
   "metadata": {},
   "source": [
    "set up some of the parameters to be used later. These parameters are —  length of the window, test set size in LSTM layer, epochs, batch size, loss, dropouts and optimizer."
   ]
  },
  {
   "cell_type": "code",
   "execution_count": 29,
   "metadata": {},
   "outputs": [
    {
     "name": "stdout",
     "output_type": "stream",
     "text": [
      "WARNING:tensorflow:From C:\\Users\\tansiahong\\Anaconda3\\lib\\site-packages\\keras\\backend\\tensorflow_backend.py:74: The name tf.get_default_graph is deprecated. Please use tf.compat.v1.get_default_graph instead.\n",
      "\n",
      "WARNING:tensorflow:From C:\\Users\\tansiahong\\Anaconda3\\lib\\site-packages\\keras\\backend\\tensorflow_backend.py:517: The name tf.placeholder is deprecated. Please use tf.compat.v1.placeholder instead.\n",
      "\n",
      "WARNING:tensorflow:From C:\\Users\\tansiahong\\Anaconda3\\lib\\site-packages\\keras\\backend\\tensorflow_backend.py:4138: The name tf.random_uniform is deprecated. Please use tf.random.uniform instead.\n",
      "\n",
      "WARNING:tensorflow:From C:\\Users\\tansiahong\\Anaconda3\\lib\\site-packages\\keras\\backend\\tensorflow_backend.py:133: The name tf.placeholder_with_default is deprecated. Please use tf.compat.v1.placeholder_with_default instead.\n",
      "\n",
      "WARNING:tensorflow:From C:\\Users\\tansiahong\\Anaconda3\\lib\\site-packages\\keras\\backend\\tensorflow_backend.py:3445: calling dropout (from tensorflow.python.ops.nn_ops) with keep_prob is deprecated and will be removed in a future version.\n",
      "Instructions for updating:\n",
      "Please use `rate` instead of `keep_prob`. Rate should be set to `rate = 1 - keep_prob`.\n",
      "WARNING:tensorflow:From C:\\Users\\tansiahong\\Anaconda3\\lib\\site-packages\\keras\\optimizers.py:790: The name tf.train.Optimizer is deprecated. Please use tf.compat.v1.train.Optimizer instead.\n",
      "\n",
      "_________________________________________________________________\n",
      "Layer (type)                 Output Shape              Param #   \n",
      "=================================================================\n",
      "lstm_1 (LSTM)                (None, 100)               40800     \n",
      "_________________________________________________________________\n",
      "dropout_1 (Dropout)          (None, 100)               0         \n",
      "_________________________________________________________________\n",
      "dense_1 (Dense)              (None, 1)                 101       \n",
      "_________________________________________________________________\n",
      "activation_1 (Activation)    (None, 1)                 0         \n",
      "=================================================================\n",
      "Total params: 40,901\n",
      "Trainable params: 40,901\n",
      "Non-trainable params: 0\n",
      "_________________________________________________________________\n"
     ]
    }
   ],
   "source": [
    "model = build_lstm_model(\n",
    "    X_train, output_size=1, neurons=lstm_neurons, dropout=dropout, loss=loss,\n",
    "    optimizer=optimizer)\n",
    "model.summary()"
   ]
  },
  {
   "cell_type": "markdown",
   "metadata": {},
   "source": [
    "# Training the model"
   ]
  },
  {
   "cell_type": "markdown",
   "metadata": {},
   "source": [
    "train the model using inputs x_train and labels y_train."
   ]
  },
  {
   "cell_type": "code",
   "execution_count": 30,
   "metadata": {},
   "outputs": [
    {
     "name": "stdout",
     "output_type": "stream",
     "text": [
      "WARNING:tensorflow:From C:\\Users\\tansiahong\\Anaconda3\\lib\\site-packages\\tensorflow\\python\\ops\\math_grad.py:1250: add_dispatch_support.<locals>.wrapper (from tensorflow.python.ops.array_ops) is deprecated and will be removed in a future version.\n",
      "Instructions for updating:\n",
      "Use tf.where in 2.0, which has the same broadcast rule as np.where\n",
      "WARNING:tensorflow:From C:\\Users\\tansiahong\\Anaconda3\\lib\\site-packages\\keras\\backend\\tensorflow_backend.py:986: The name tf.assign_add is deprecated. Please use tf.compat.v1.assign_add instead.\n",
      "\n",
      "Epoch 1/30\n",
      "2400/2400 [==============================] - 63s 26ms/step - loss: 0.0186\n",
      "Epoch 2/30\n",
      "2400/2400 [==============================] - 30s 13ms/step - loss: 0.0118\n",
      "Epoch 3/30\n",
      "2400/2400 [==============================] - 11s 5ms/step - loss: 0.0129\n",
      "Epoch 4/30\n",
      "2400/2400 [==============================] - 35s 15ms/step - loss: 0.0139\n",
      "Epoch 5/30\n",
      "2400/2400 [==============================] - 45s 19ms/step - loss: 0.0094\n",
      "Epoch 6/30\n",
      "2400/2400 [==============================] - 47s 20ms/step - loss: 0.0071\n",
      "Epoch 7/30\n",
      "2400/2400 [==============================] - 53s 22ms/step - loss: 0.0033\n",
      "Epoch 8/30\n",
      "2400/2400 [==============================] - 27s 11ms/step - loss: 0.0030\n",
      "Epoch 9/30\n",
      "2400/2400 [==============================] - 17s 7ms/step - loss: 0.0023\n",
      "Epoch 10/30\n",
      "2400/2400 [==============================] - 45s 19ms/step - loss: 0.0021\n",
      "Epoch 11/30\n",
      "2400/2400 [==============================] - 53s 22ms/step - loss: 0.0025\n",
      "Epoch 12/30\n",
      "2400/2400 [==============================] - 14s 6ms/step - loss: 0.0022\n",
      "Epoch 13/30\n",
      "2400/2400 [==============================] - 72s 30ms/step - loss: 0.0018\n",
      "Epoch 14/30\n",
      "2400/2400 [==============================] - 35s 15ms/step - loss: 0.0020\n",
      "Epoch 15/30\n",
      "2400/2400 [==============================] - 35s 15ms/step - loss: 0.0024\n",
      "Epoch 16/30\n",
      "2400/2400 [==============================] - 49s 21ms/step - loss: 0.0017\n",
      "Epoch 17/30\n",
      "2400/2400 [==============================] - 30s 12ms/step - loss: 0.0015\n",
      "Epoch 18/30\n",
      "2400/2400 [==============================] - 12s 5ms/step - loss: 0.0016\n",
      "Epoch 19/30\n",
      "2400/2400 [==============================] - 42s 18ms/step - loss: 0.0020\n",
      "Epoch 20/30\n",
      "2400/2400 [==============================] - 53s 22ms/step - loss: 0.0017\n",
      "Epoch 21/30\n",
      "2400/2400 [==============================] - 19s 8ms/step - loss: 0.0022\n",
      "Epoch 22/30\n",
      "2400/2400 [==============================] - 15s 6ms/step - loss: 0.0018\n",
      "Epoch 23/30\n",
      "2400/2400 [==============================] - 33s 14ms/step - loss: 0.0014\n",
      "Epoch 24/30\n",
      "2400/2400 [==============================] - 40s 17ms/step - loss: 0.0017\n",
      "Epoch 25/30\n",
      "2400/2400 [==============================] - 23s 9ms/step - loss: 0.0020\n",
      "Epoch 26/30\n",
      "2400/2400 [==============================] - 12s 5ms/step - loss: 0.0015\n",
      "Epoch 27/30\n",
      "2400/2400 [==============================] - 53s 22ms/step - loss: 0.0015\n",
      "Epoch 28/30\n",
      "2400/2400 [==============================] - 41s 17ms/step - loss: 0.0015\n",
      "Epoch 29/30\n",
      "2400/2400 [==============================] - 18s 8ms/step - loss: 0.0016\n",
      "Epoch 30/30\n",
      "2400/2400 [==============================] - 12s 5ms/step - loss: 0.0015\n"
     ]
    }
   ],
   "source": [
    "history = model.fit(\n",
    "    X_train, y_train, epochs=epochs, batch_size=batch_size, verbose=1, shuffle=True)"
   ]
  },
  {
   "cell_type": "code",
   "execution_count": 35,
   "metadata": {},
   "outputs": [
    {
     "data": {
      "text/plain": [
       "0.08529373080285942"
      ]
     },
     "execution_count": 35,
     "metadata": {},
     "output_type": "execute_result"
    }
   ],
   "source": [
    "targets = y_test\n",
    "#targets = test[target_col][window_len:]\n",
    "preds = model.predict(X_test).squeeze()\n",
    "mean_absolute_error(preds, targets)"
   ]
  },
  {
   "cell_type": "markdown",
   "metadata": {},
   "source": [
    "# 4.Visualize the prediction results"
   ]
  },
  {
   "cell_type": "code",
   "execution_count": 33,
   "metadata": {},
   "outputs": [
    {
     "data": {
      "image/png": "[encoded data removed]",
      "text/plain": [
       "<Figure size 936x504 with 1 Axes>"
      ]
     },
     "metadata": {
      "needs_background": "light"
     },
     "output_type": "display_data"
    }
   ],
   "source": [
    "line_plot(targets, preds, 'actual', 'prediction', title='Bitcoin Closing Price Prediction')"
   ]
  },
  {
   "cell_type": "markdown",
   "metadata": {},
   "source": [
    "# Conclusion"
   ]
  },
  {
   "cell_type": "markdown",
   "metadata": {},
   "source": [
    "After 4 step processing of getting close price prediction of Cryptocurrecy data, the result shown bad prediction because the prediction receive the overfitting based on above graph show.\n",
    "Feel free to play with the hyper-parameters or try out different neural network architectures for better results."
   ]
  },
  {
   "cell_type": "code",
   "execution_count": null,
   "metadata": {},
   "outputs": [],
   "source": []
  }
 ],
 "metadata": {
  "kernelspec": {
   "display_name": "Python 3",
   "language": "python",
   "name": "python3"
  },
  "language_info": {
   "codemirror_mode": {
    "name": "ipython",
    "version": 3
   },
   "file_extension": ".py",
   "mimetype": "text/x-python",
   "name": "python",
   "nbconvert_exporter": "python",
   "pygments_lexer": "ipython3",
   "version": "3.7.3"
  }
 },
 "nbformat": 4,
 "nbformat_minor": 2
}
